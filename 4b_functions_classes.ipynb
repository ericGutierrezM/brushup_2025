{
 "cells": [
  {
   "cell_type": "markdown",
   "metadata": {},
   "source": [
    "## Functional Programming (FP)"
   ]
  },
  {
   "cell_type": "markdown",
   "metadata": {},
   "source": [
    "Functional programming is about treating computation as the evaluation of functions. In Python, this style often involves writing small, reusable functions and combining them with tools like map, filter, and comprehensions. Let’s walk through the key ideas."
   ]
  },
  {
   "cell_type": "markdown",
   "metadata": {},
   "source": [
    "#### Full (named) Functions with def\n",
    "\n",
    "Building blocks: they take inputs, do something, and return results.\n",
    "- A function has a name (square), parameters (x), and a return value.\n",
    "- Docstrings (\"\"\"...\"\"\") are a good habit to describe what a function does."
   ]
  },
  {
   "cell_type": "code",
   "execution_count": 1,
   "metadata": {},
   "outputs": [
    {
     "name": "stdout",
     "output_type": "stream",
     "text": [
      "16\n"
     ]
    }
   ],
   "source": [
    "def square(x):\n",
    "    \"\"\"Return the square of x.\"\"\"\n",
    "    return x * x\n",
    "\n",
    "print(square(4))  # 16\n"
   ]
  },
  {
   "cell_type": "markdown",
   "metadata": {},
   "source": [
    "#### Default Arguments\n",
    "\n",
    "Sometimes we want functions to have default behavior if no argument is given.\n",
    "- Default arguments make functions more flexible.\n",
    "- They reduce repetitive code when you often call a function with the same value.\n"
   ]
  },
  {
   "cell_type": "code",
   "execution_count": 2,
   "metadata": {},
   "outputs": [
    {
     "name": "stdout",
     "output_type": "stream",
     "text": [
      "Hello, World!\n",
      "Hello, Alice!\n"
     ]
    }
   ],
   "source": [
    "def greet(name=\"World\"):\n",
    "    return f\"Hello, {name}!\"\n",
    "\n",
    "print(greet())         # Hello, World!\n",
    "print(greet(\"Alice\"))  # Hello, Alice!\n"
   ]
  },
  {
   "cell_type": "markdown",
   "metadata": {},
   "source": [
    "#### Lambda (Anonymous) Functions\n",
    "\n",
    "Instead of defining a function with def, sometimes we just need a short, throwaway function. That’s where lambda comes in.\n",
    "- lambda is useful when passing functions as arguments (e.g., to map or filter).\n",
    "- They are less readable for complex logic, so use sparingly."
   ]
  },
  {
   "cell_type": "code",
   "execution_count": 3,
   "metadata": {},
   "outputs": [
    {
     "name": "stdout",
     "output_type": "stream",
     "text": [
      "6\n",
      "6\n"
     ]
    }
   ],
   "source": [
    "# Full function\n",
    "def add_one(x):\n",
    "    return x + 1\n",
    "\n",
    "# Lambda version\n",
    "add_one_lambda = lambda x: x + 1\n",
    "\n",
    "print(add_one(5))        # 6\n",
    "print(add_one_lambda(5)) # 6\n"
   ]
  },
  {
   "cell_type": "markdown",
   "metadata": {},
   "source": [
    "#### Mapping Values with map()\n",
    "\n",
    "The map() function applies another function to every element of a sequence.\n",
    "- map(function, iterable) returns a map object, so we usually wrap it in list().\n",
    "- Good for transformation."
   ]
  },
  {
   "cell_type": "code",
   "execution_count": 6,
   "metadata": {},
   "outputs": [
    {
     "name": "stdout",
     "output_type": "stream",
     "text": [
      "[1, 4, 9, 16, 25]\n",
      "[2, 4, 6, 8, 10]\n"
     ]
    }
   ],
   "source": [
    "numbers = [1, 2, 3, 4, 5]\n",
    "\n",
    "# Using a defined function\n",
    "squares = list(map(square, numbers))\n",
    "\n",
    "# Using a lambda\n",
    "doubles = list(map(lambda x: x * 2, numbers))\n",
    "\n",
    "print(squares)  # [1, 4, 9, 16, 25]\n",
    "print(doubles)  # [2, 4, 6, 8, 10]\n"
   ]
  },
  {
   "cell_type": "markdown",
   "metadata": {},
   "source": [
    "#### Filtering Values with filter()\n",
    "The filter() function keeps only the elements where the function returns True.\n",
    "\n",
    "- filter(function, iterable) removes elements that don’t pass the test.\n",
    "- Complements map(): one transforms, the other selects."
   ]
  },
  {
   "cell_type": "code",
   "execution_count": 7,
   "metadata": {},
   "outputs": [
    {
     "name": "stdout",
     "output_type": "stream",
     "text": [
      "[2, 4]\n"
     ]
    }
   ],
   "source": [
    "numbers = [1, 2, 3, 4, 5]\n",
    "\n",
    "evens = list(filter(lambda x: x % 2 == 0, numbers))\n",
    "\n",
    "print(evens)  # [2, 4]\n"
   ]
  },
  {
   "cell_type": "markdown",
   "metadata": {},
   "source": [
    "#### Applying Functions (apply in Pandas)\n",
    "\n",
    "When working with data tables (e.g., Pandas DataFrames), we can use apply() to apply a function across rows or columns.\n",
    "- apply works like map, but for Series (columns) or DataFrames.\n",
    "- Very common in data analysis workflows."
   ]
  },
  {
   "cell_type": "code",
   "execution_count": 8,
   "metadata": {},
   "outputs": [
    {
     "name": "stdout",
     "output_type": "stream",
     "text": [
      "    name  age  age_plus_10\n",
      "0  Alice   25           35\n",
      "1    Bob   30           40\n"
     ]
    }
   ],
   "source": [
    "import pandas as pd\n",
    "\n",
    "data = pd.DataFrame({\"name\": [\"Alice\", \"Bob\"], \"age\": [25, 30]})\n",
    "\n",
    "# Apply a lambda to a column\n",
    "data[\"age_plus_10\"] = data[\"age\"].apply(lambda x: x + 10)\n",
    "\n",
    "print(data)\n"
   ]
  },
  {
   "cell_type": "markdown",
   "metadata": {},
   "source": [
    "## Object Oriented Programming (OOP)\n",
    "\n"
   ]
  },
  {
   "cell_type": "markdown",
   "metadata": {},
   "source": [
    "| Feature          | Functional Programming                                                                                      | Object-Oriented Programming                                                                                                                   |\n",
    "| ---------------- | ----------------------------------------------------------------------------------------------------------- | --------------------------------------------------------------------------------------------------------------------------------------------- |\n",
    "| **Unit of code** | Functions                                                                                                   | Classes & objects                                                                                                                             |\n",
    "| **Focus**        | Data transformations                                                                                        | Modeling entities                                                                                                                             |\n",
    "| **Style**        | Write small, reusable functions; combine with `map`, `filter`, comprehensions                               | Bundle data + behavior in objects                                                                                                             |\n",
    "| **When to use**  | - Data wrangling, analysis<br>- Transforming sequences (e.g., Pandas, NumPy)<br>- Short scripts & pipelines | - Larger systems (apps, simulations, GUIs)<br>- When entities have state (e.g., a `User` or `Car`)<br>- When reusability & inheritance matter |\n",
    "| **Strengths**    | Concise, expressive, easy for data flows                                                                    | Structured, scalable, models real-world concepts                                                                                              |\n"
   ]
  },
  {
   "cell_type": "markdown",
   "metadata": {},
   "source": [
    "#### MiniMe"
   ]
  },
  {
   "cell_type": "code",
   "execution_count": 9,
   "metadata": {},
   "outputs": [],
   "source": [
    "# create the most basic class possible\n",
    "\n",
    "class MiniMe:\n",
    "    pass"
   ]
  },
  {
   "cell_type": "code",
   "execution_count": 11,
   "metadata": {},
   "outputs": [
    {
     "name": "stdout",
     "output_type": "stream",
     "text": [
      "<class 'type'>\n",
      "<class '__main__.MiniMe'>\n",
      "Margherita\n"
     ]
    }
   ],
   "source": [
    "# instantiate the class\n",
    "myself = MiniMe()\n",
    "\n",
    "# call its atibutes\n",
    "myself.name=\"Margherita\"\n",
    "myself.school=\"BSE\"\n",
    "\n",
    "# print information\n",
    "print(type(MiniMe))\n",
    "print(type(myself))\n",
    "print((myself.name))\n",
    "\n"
   ]
  },
  {
   "cell_type": "markdown",
   "metadata": {},
   "source": [
    "#### Name says hi"
   ]
  },
  {
   "cell_type": "code",
   "execution_count": 13,
   "metadata": {},
   "outputs": [
    {
     "name": "stdout",
     "output_type": "stream",
     "text": [
      "Margherita\n",
      "Good afternoon\n",
      "Adrian\n",
      "Good morning\n"
     ]
    }
   ],
   "source": [
    "class NameSaysHi:\n",
    "    def __init__(self,name,school):\n",
    "        self.name=name\n",
    "        self.school=school\n",
    "    def print_name(self): # this is a method\n",
    "        print(self.name)\n",
    "    def print_school(self):\n",
    "        print(self.school)\n",
    "    def greet(self,morning):\n",
    "        if morning:\n",
    "            print('Good morning')\n",
    "        else:\n",
    "            print('Good afternoon')\n",
    "        \n",
    "\n",
    "person1=NameSaysHi(\"Margherita\",\"BSE\")\n",
    "\n",
    "person1.print_name()\n",
    "person1.greet(False)\n",
    "\n",
    "\n",
    "person2=NameSaysHi(\"Adrian\",\"TUB\")\n",
    "\n",
    "person2.print_name()\n",
    "person2.greet(True)"
   ]
  },
  {
   "cell_type": "markdown",
   "metadata": {},
   "source": [
    "#### Car"
   ]
  },
  {
   "cell_type": "markdown",
   "metadata": {},
   "source": [
    "- drive the car back to the origin\n",
    "- add a different initial location\n",
    "- in the commented out version of the location generation: what role does `(direction == 'right')` play and what is the point of multiplying and divinging by two?"
   ]
  },
  {
   "cell_type": "code",
   "execution_count": 14,
   "metadata": {},
   "outputs": [
    {
     "name": "stdout",
     "output_type": "stream",
     "text": [
      "We drive the car towards left direction by 1\n",
      "-1\n",
      "We drive the car towards left direction by 1\n",
      "-2\n",
      "We drive the car towards right direction by 5\n",
      "3\n"
     ]
    }
   ],
   "source": [
    "from typing import Union\n",
    "\n",
    "class Car:\n",
    "    def __init__(self, color: str, horse_power: int, location: Union[int, float] = 0) -> None:  # class constructor\n",
    "        self.color = color\n",
    "        self.horse_power = horse_power\n",
    "        self.location = location\n",
    "        \n",
    "    def drive(self, direction: str, distance: Union[int, float]) -> None:  # class method\n",
    "        if direction not in ['left', 'right']:\n",
    "            raise ValueError('Direction has to be either \"left\" or \"right\".')\n",
    "        self.location += (1 if direction == \"right\" else -1) * distance\n",
    "        #self.location = self.location + 2 * ((direction == 'right') - 1 / 2) * distance\n",
    "        print(f\"We drive the car towards {direction} direction by {distance}\")\n",
    "\n",
    "# instantiate class\n",
    "car = Car('pink', 88)\n",
    "car.drive('left', 1)\n",
    "\n",
    "print(car.location)\n",
    "car.drive('left', 1)\n",
    "\n",
    "print(car.location)\n",
    "\n",
    "car.drive('right', 5)\n",
    "print(car.location)"
   ]
  },
  {
   "cell_type": "markdown",
   "metadata": {},
   "source": [
    "#### Bank account\n",
    "\n",
    "- Create an instance of the class `BankAccount`, making up initial properties/ attributes.\n",
    "- How can you call the attributes of the object?\n",
    "- Go on to use the functions of the class: deposit and withdraw money and check the balance in between.\n",
    "\n",
    "Source: https://www.datacamp.com/tutorial/functional-programming-vs-object-oriented-programming"
   ]
  },
  {
   "cell_type": "code",
   "execution_count": 39,
   "metadata": {},
   "outputs": [],
   "source": [
    "# Define a class representing a bank account\n",
    "class BankAccount:\n",
    "    def __init__(self, account_id, customer_name, initial_balance=0.0):\n",
    "        # Initialize account properties\n",
    "        self.account_id = account_id\n",
    "        self.customer_name = customer_name\n",
    "        self.balance = initial_balance\n",
    "\n",
    "    # Method to deposit money into the account\n",
    "    def deposit(self, amount):\n",
    "        \"\"\"Deposit money into the account.\"\"\"\n",
    "        if amount > 0:\n",
    "            # Update balance and print deposit information\n",
    "            self.balance += amount\n",
    "            print(f\"Deposited ${amount}. New balance: ${self.balance}\")\n",
    "        else:\n",
    "            # Print message for invalid deposit amount\n",
    "            print(\"Invalid deposit amount. Please deposit a positive amount.\")\n",
    "\n",
    "    # Method to withdraw money from the account\n",
    "    def withdraw(self, amount):\n",
    "        \"\"\"Withdraw money from the account.\"\"\"\n",
    "        if 0 < amount <= self.balance:\n",
    "            # Update balance and print withdrawal information\n",
    "            self.balance -= amount\n",
    "            print(f\"Withdrew ${amount}. New balance: ${self.balance}\")\n",
    "        elif amount > self.balance:\n",
    "            # Print message for insufficient funds\n",
    "            print(\"Insufficient funds. Withdrawal canceled.\")\n",
    "        else:\n",
    "            # Print message for invalid withdrawal amount\n",
    "            print(\"Invalid withdrawal amount. Please withdraw a positive amount.\")\n",
    "\n",
    "    # Method to check the current balance of the account\n",
    "    def check_balance(self):\n",
    "        \"\"\"Check the current balance of the account.\"\"\"\n",
    "        print(f\"Current balance for {self.customer_name}'s account (ID: {self.account_id}): ${self.balance}\")"
   ]
  },
  {
   "cell_type": "code",
   "execution_count": 40,
   "metadata": {},
   "outputs": [],
   "source": [
    "bs123 = BankAccount('1802ha01839', 'Alexander Hamilton', 20000.0)"
   ]
  },
  {
   "cell_type": "code",
   "execution_count": 41,
   "metadata": {},
   "outputs": [
    {
     "name": "stdout",
     "output_type": "stream",
     "text": [
      "Withdrew $250. New balance: $19750.0\n",
      "Deposited $9000. New balance: $28750.0\n"
     ]
    }
   ],
   "source": [
    "bs123.withdraw(250)\n",
    "bs123.deposit(9000)"
   ]
  },
  {
   "cell_type": "markdown",
   "metadata": {},
   "source": [
    "Some inspiration for your own class:\n",
    "- Example with planets class (10 mins): https://www.youtube.com/watch?v=LwFnF9XoEf\n",
    "- Example with house class (7 mins): https://www.youtube.com/watch?v=3zoyA3U2Ka0"
   ]
  },
  {
   "cell_type": "code",
   "execution_count": 77,
   "metadata": {},
   "outputs": [],
   "source": [
    "class Property:\n",
    "    def __init__(self, code, qcode, value_2021, value_recent='NaN'):\n",
    "        self.code = code\n",
    "        self.qcode = qcode\n",
    "        self.value_2021 = value_2021\n",
    "        self.value_recent = value_recent\n",
    "    def addCurrentValue(self, value):\n",
    "        self.value_recent = value\n",
    "    def computeApp(self):\n",
    "        if(self.value_recent == 'NaN'):\n",
    "            print('Introduce a current property value to compute appreciation change.\\n')\n",
    "        else:\n",
    "            app = self.value_recent-self.value_2021\n",
    "            print(f'Change in property value: {app} $. ( {round(app/self.value_2021, 2)}% )')\n",
    "    def computeTax(self):\n",
    "        if(self.value_recent > self.value_2021):\n",
    "            print(f'2025 Property Tax: {self.value_recent*0.005} $. ( {0.5}% )')"
   ]
  },
  {
   "cell_type": "code",
   "execution_count": 78,
   "metadata": {},
   "outputs": [
    {
     "name": "stdout",
     "output_type": "stream",
     "text": [
      "2025 Property Tax: 2500.0 $. ( 0.5% )\n"
     ]
    }
   ],
   "source": [
    "mo58 = Property('R','R1',285500)\n",
    "mo58.addCurrentValue(500000)\n",
    "mo58.computeTax()"
   ]
  }
 ],
 "metadata": {
  "kernelspec": {
   "display_name": "Python 3",
   "language": "python",
   "name": "python3"
  },
  "language_info": {
   "codemirror_mode": {
    "name": "ipython",
    "version": 3
   },
   "file_extension": ".py",
   "mimetype": "text/x-python",
   "name": "python",
   "nbconvert_exporter": "python",
   "pygments_lexer": "ipython3",
   "version": "3.11.9"
  }
 },
 "nbformat": 4,
 "nbformat_minor": 2
}
