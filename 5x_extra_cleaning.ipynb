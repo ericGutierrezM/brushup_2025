{
 "cells": [
  {
   "cell_type": "markdown",
   "metadata": {},
   "source": [
    "## Background cleaning\n",
    "\n",
    "What I did to give you a slightly nicer data set - shows how to store data frames as csvs and how to rename columns using a dictionary"
   ]
  },
  {
   "cell_type": "code",
   "execution_count": null,
   "metadata": {},
   "outputs": [],
   "source": [
    "import pandas as pd\n",
    "import os\n",
    "\n",
    "# import data - get current working directory and its parent\n",
    "cwd = os.getcwd()\n",
    "parent_path = os.path.dirname(cwd)\n",
    "\n",
    "df_og = pd.read_csv(parent_path + '/data/WB_extra/WB_full_pop.csv')\n",
    "\n",
    "#df_meta = pd.read_csv(cwd + '/data/WB_extra/WB_full_pop_metadata.csv')\n",
    "\n",
    "df_og.head()"
   ]
  },
  {
   "cell_type": "code",
   "execution_count": 10,
   "metadata": {},
   "outputs": [],
   "source": [
    "df_WB = df_og.copy()"
   ]
  },
  {
   "cell_type": "code",
   "execution_count": null,
   "metadata": {},
   "outputs": [],
   "source": [
    "cols_to_clean = [\n",
    "    '2001 [YR2001]', '2002 [YR2002]', '2003 [YR2003]', '2011 [YR2011]',\n",
    "    '2012 [YR2012]', '2013 [YR2013]', '2021 [YR2021]', '2022 [YR2022]', '2023 [YR2023]', '2024 [YR2024]']\n",
    "\n",
    "# cols_to_clean might include other non-year columns\n",
    "cols_to_clean = df_WB.columns.tolist()\n",
    "\n",
    "# Creating a dictionary to map the year columns from '2001 [YR2001]' to just '2001'\n",
    "rename_dict = {col: col.split()[0] for col in cols_to_clean if '[YR' in col}\n",
    "\n",
    "# Using rename to only change the year columns and leave the rest intact\n",
    "df_WB = df_WB.rename(columns=rename_dict)\n",
    "\n",
    "df_WB.head(2)"
   ]
  },
  {
   "cell_type": "code",
   "execution_count": null,
   "metadata": {},
   "outputs": [],
   "source": [
    "df_pop = df_WB.loc[df_WB['Series Code']=='SP.POP.TOTL']\n",
    "\n",
    "country_groups = [\n",
    "    \"AFE\", \"AFW\", \"ARB\", \"CSS\", \"CEB\", \"EAR\", \"EAS\", \"EAP\", \"TEA\", \"EMU\", \n",
    "    \"ECS\", \"ECA\", \"TEC\", \"EUU\", \"FCS\", \"HPC\", \"HIC\", \"IBD\", \"IBT\", \"IDB\", \n",
    "    \"IDX\", \"IDA\", \"LTE\", \"LCN\", \"LAC\", \"TLA\", \"LDC\", \"LMY\", \"LIC\", \"LMC\", \n",
    "    \"MEA\", \"MNA\", \"TMN\", \"MIC\", \"NAC\", \"INX\", \"OED\", \"OSS\", \"PSS\", \"PST\", \n",
    "    \"PRE\", \"SST\", \"SAS\", \"TSA\", \"SSF\", \"SSA\", \"TSS\", \"UMC\"]\n",
    "\n",
    "world = [\"WLD\"]\n",
    "\n",
    "filtered_df = df_pop[~df_pop['Country Code'].isin(country_groups)]\n",
    "\n",
    "filtered_df.shape\n"
   ]
  },
  {
   "cell_type": "code",
   "execution_count": 7,
   "metadata": {},
   "outputs": [],
   "source": [
    "# download\n",
    "#filtered_df.to_csv('/Users/margheritaphilipp/Documents/margherita/GitHub/brushup_2025/data/WB_pop_clean.csv', index=False)"
   ]
  }
 ],
 "metadata": {
  "kernelspec": {
   "display_name": "brushup-2025",
   "language": "python",
   "name": "python3"
  },
  "language_info": {
   "codemirror_mode": {
    "name": "ipython",
    "version": 3
   },
   "file_extension": ".py",
   "mimetype": "text/x-python",
   "name": "python",
   "nbconvert_exporter": "python",
   "pygments_lexer": "ipython3",
   "version": "3.11.12"
  }
 },
 "nbformat": 4,
 "nbformat_minor": 2
}
