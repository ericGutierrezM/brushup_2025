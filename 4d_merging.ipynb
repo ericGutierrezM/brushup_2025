{
 "cells": [
  {
   "cell_type": "markdown",
   "metadata": {},
   "source": [
    "## Merging"
   ]
  },
  {
   "cell_type": "code",
   "execution_count": 11,
   "metadata": {},
   "outputs": [
    {
     "name": "stdout",
     "output_type": "stream",
     "text": [
      "df1:\n",
      "   isocode  year  chickens_per_capita\n",
      "0     USA  2020                   25\n",
      "1     FRA  2020                   12\n",
      "2     GER  2021                   18\n",
      "3     BRA  2021                   30\n",
      "\n",
      "df2:\n",
      "   isocode  year  dogs_per_capita  share_univ_graduates\n",
      "0     USA  2020               15                  0.40\n",
      "1     FRA  2021                8                  0.35\n",
      "2     ITA  2021               20                  0.25\n",
      "3     BRA  2020               10                  0.20\n"
     ]
    }
   ],
   "source": [
    "import pandas as pd\n",
    "\n",
    "# First DataFrame\n",
    "df1 = pd.DataFrame({\n",
    "    \"isocode\": [\"USA\", \"FRA\", \"GER\", \"BRA\"],\n",
    "    \"year\": [2020, 2020, 2021, 2021],\n",
    "    \"chickens_per_capita\": [25, 12, 18, 30]\n",
    "})\n",
    "\n",
    "# Second DataFrame\n",
    "df2 = pd.DataFrame({\n",
    "    \"isocode\": [\"USA\", \"FRA\", \"ITA\", \"BRA\"],\n",
    "    \"year\": [2020, 2021, 2021, 2020],\n",
    "    \"dogs_per_capita\": [15, 8, 20, 10],\n",
    "    \"share_univ_graduates\": [0.40, 0.35, 0.25, 0.20]\n",
    "})\n",
    "\n",
    "print(\"df1:\\n\", df1)\n",
    "print(\"\\ndf2:\\n\", df2)\n"
   ]
  },
  {
   "cell_type": "code",
   "execution_count": 13,
   "metadata": {},
   "outputs": [],
   "source": [
    "# Inner join: only rows with keys in both\n",
    "inner = pd.merge(df1, df2, on=[\"isocode\", \"year\"], how=\"inner\")\n",
    "\n",
    "# Outer join: all keys from both, missing values filled with NaN\n",
    "outer = pd.merge(df1, df2, on=[\"isocode\", \"year\"], how=\"outer\")\n",
    "\n",
    "# Left join: all keys from df1, matching data from df2\n",
    "left = pd.merge(df1, df2, on=[\"isocode\", \"year\"], how=\"left\")\n",
    "\n",
    "# Right join: all keys from df2, matching data from df1\n",
    "right = pd.merge(df1, df2, on=[\"isocode\", \"year\"], how=\"right\")\n"
   ]
  },
  {
   "cell_type": "markdown",
   "metadata": {},
   "source": [
    "Look at each of the newly generated merged dataframes. What rows \"survive\" in each merge?"
   ]
  },
  {
   "cell_type": "code",
   "execution_count": 17,
   "metadata": {},
   "outputs": [
    {
     "data": {
      "application/vnd.microsoft.datawrangler.viewer.v0+json": {
       "columns": [
        {
         "name": "index",
         "rawType": "int64",
         "type": "integer"
        },
        {
         "name": "isocode",
         "rawType": "object",
         "type": "string"
        },
        {
         "name": "year",
         "rawType": "int64",
         "type": "integer"
        },
        {
         "name": "chickens_per_capita",
         "rawType": "float64",
         "type": "float"
        },
        {
         "name": "dogs_per_capita",
         "rawType": "int64",
         "type": "integer"
        },
        {
         "name": "share_univ_graduates",
         "rawType": "float64",
         "type": "float"
        }
       ],
       "ref": "0dc144fe-5cac-4446-adb2-ec5aba02425f",
       "rows": [
        [
         "0",
         "USA",
         "2020",
         "25.0",
         "15",
         "0.4"
        ],
        [
         "1",
         "FRA",
         "2021",
         null,
         "8",
         "0.35"
        ],
        [
         "2",
         "ITA",
         "2021",
         null,
         "20",
         "0.25"
        ],
        [
         "3",
         "BRA",
         "2020",
         null,
         "10",
         "0.2"
        ]
       ],
       "shape": {
        "columns": 5,
        "rows": 4
       }
      },
      "text/html": [
       "<div>\n",
       "<style scoped>\n",
       "    .dataframe tbody tr th:only-of-type {\n",
       "        vertical-align: middle;\n",
       "    }\n",
       "\n",
       "    .dataframe tbody tr th {\n",
       "        vertical-align: top;\n",
       "    }\n",
       "\n",
       "    .dataframe thead th {\n",
       "        text-align: right;\n",
       "    }\n",
       "</style>\n",
       "<table border=\"1\" class=\"dataframe\">\n",
       "  <thead>\n",
       "    <tr style=\"text-align: right;\">\n",
       "      <th></th>\n",
       "      <th>isocode</th>\n",
       "      <th>year</th>\n",
       "      <th>chickens_per_capita</th>\n",
       "      <th>dogs_per_capita</th>\n",
       "      <th>share_univ_graduates</th>\n",
       "    </tr>\n",
       "  </thead>\n",
       "  <tbody>\n",
       "    <tr>\n",
       "      <th>0</th>\n",
       "      <td>USA</td>\n",
       "      <td>2020</td>\n",
       "      <td>25.0</td>\n",
       "      <td>15</td>\n",
       "      <td>0.40</td>\n",
       "    </tr>\n",
       "    <tr>\n",
       "      <th>1</th>\n",
       "      <td>FRA</td>\n",
       "      <td>2021</td>\n",
       "      <td>NaN</td>\n",
       "      <td>8</td>\n",
       "      <td>0.35</td>\n",
       "    </tr>\n",
       "    <tr>\n",
       "      <th>2</th>\n",
       "      <td>ITA</td>\n",
       "      <td>2021</td>\n",
       "      <td>NaN</td>\n",
       "      <td>20</td>\n",
       "      <td>0.25</td>\n",
       "    </tr>\n",
       "    <tr>\n",
       "      <th>3</th>\n",
       "      <td>BRA</td>\n",
       "      <td>2020</td>\n",
       "      <td>NaN</td>\n",
       "      <td>10</td>\n",
       "      <td>0.20</td>\n",
       "    </tr>\n",
       "  </tbody>\n",
       "</table>\n",
       "</div>"
      ],
      "text/plain": [
       "  isocode  year  chickens_per_capita  dogs_per_capita  share_univ_graduates\n",
       "0     USA  2020                 25.0               15                  0.40\n",
       "1     FRA  2021                  NaN                8                  0.35\n",
       "2     ITA  2021                  NaN               20                  0.25\n",
       "3     BRA  2020                  NaN               10                  0.20"
      ]
     },
     "execution_count": 17,
     "metadata": {},
     "output_type": "execute_result"
    }
   ],
   "source": []
  }
 ],
 "metadata": {
  "kernelspec": {
   "display_name": "brushup-2025",
   "language": "python",
   "name": "python3"
  },
  "language_info": {
   "codemirror_mode": {
    "name": "ipython",
    "version": 3
   },
   "file_extension": ".py",
   "mimetype": "text/x-python",
   "name": "python",
   "nbconvert_exporter": "python",
   "pygments_lexer": "ipython3",
   "version": "3.11.12"
  }
 },
 "nbformat": 4,
 "nbformat_minor": 2
}
